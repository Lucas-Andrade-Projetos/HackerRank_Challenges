{
  "nbformat": 4,
  "nbformat_minor": 0,
  "metadata": {
    "colab": {
      "provenance": [],
      "authorship_tag": "ABX9TyPSlZO3QZsicNSTmm1uDa9n",
      "include_colab_link": true
    },
    "kernelspec": {
      "name": "python3",
      "display_name": "Python 3"
    },
    "language_info": {
      "name": "python"
    }
  },
  "cells": [
    {
      "cell_type": "markdown",
      "metadata": {
        "id": "view-in-github",
        "colab_type": "text"
      },
      "source": [
        "<a href=\"https://colab.research.google.com/github/Lucas-Andrade-Projetos/HackerRank_Challenges/blob/main/HackerRank_Challenges.ipynb\" target=\"_parent\"><img src=\"https://colab.research.google.com/assets/colab-badge.svg\" alt=\"Open In Colab\"/></a>"
      ]
    },
    {
      "cell_type": "code",
      "execution_count": null,
      "metadata": {
        "id": "8m4bvhM6FSd0"
      },
      "outputs": [],
      "source": [
        "#First day challenge HackerRank\n",
        "#https://www.hackerrank.com/challenges/python-arithmetic-operators/problem?isFullScreen=true DATE:03/25/2024\n",
        "\n",
        "if __name__ == '__main__':\n",
        "    a = int(input())\n",
        "    b = int(input())\n",
        "\n",
        "print(a+b)\n",
        "print(a-b)\n",
        "print(a*b)"
      ]
    },
    {
      "cell_type": "code",
      "source": [
        "#Second day challenge HackerRank\n",
        "#https://www.hackerrank.com/challenges/py-if-else/problem?isFullScreen=true DATE:03/26/2024\n",
        "\n",
        "import math\n",
        "import os\n",
        "import random\n",
        "import re\n",
        "import sys\n",
        "\n",
        "\n",
        "\n",
        "if __name__ == '__main__':\n",
        "    n = int(input().strip())\n",
        "\n",
        "    if (n%2):\n",
        "        print('Weird')\n",
        "    else:\n",
        "        if n <= 6 :\n",
        "            print('Not Weird')\n",
        "        elif n <= 20 :\n",
        "            print('Weird')\n",
        "        else:\n",
        "            print('Not Weird')\n"
      ],
      "metadata": {
        "colab": {
          "base_uri": "https://localhost:8080/"
        },
        "id": "vOjcOSPNY2to",
        "outputId": "e89977a1-c69e-440c-a603-3bd3c4a3ef93"
      },
      "execution_count": null,
      "outputs": [
        {
          "output_type": "stream",
          "name": "stdout",
          "text": [
            "20\n",
            "Weird\n"
          ]
        }
      ]
    },
    {
      "cell_type": "code",
      "source": [
        "#Second day challenge CodeWars\n",
        "#https://www.codewars.com/kata/51f2d1cafc9c0f745c00037d/train/python\n",
        "\n",
        "def solution(text, ending):\n",
        "   return text[-len(ending):] == ending\n"
      ],
      "metadata": {
        "id": "7Vm79d2beZqM"
      },
      "execution_count": null,
      "outputs": []
    },
    {
      "cell_type": "code",
      "source": [
        "#Third Day HackerRank challenge\n",
        "#https://www.hackerrank.com/challenges/python-division/problem?isFullScreen=true\n",
        "if __name__ == '__main__':\n",
        "    a = int(input())\n",
        "    b = int(input())\n",
        "\n",
        "    print(int(a/b))\n",
        "    print(float(a/b))"
      ],
      "metadata": {
        "id": "L_gIZro0vWye"
      },
      "execution_count": null,
      "outputs": []
    },
    {
      "cell_type": "code",
      "source": [
        "#fourth day HackerRank challenge\n",
        "#https://www.hackerrank.com/challenges/python-loops/problem?isFullScreen=true\n",
        "if __name__ == '__main__':\n",
        "    n = int(input())\n",
        "\n",
        "    for x in range(n):\n",
        "        print(x*x)"
      ],
      "metadata": {
        "colab": {
          "base_uri": "https://localhost:8080/"
        },
        "id": "7-37T4iQVvrZ",
        "outputId": "10bc6cf7-c84f-43b2-81d0-d6f74ca4c3fc"
      },
      "execution_count": null,
      "outputs": [
        {
          "output_type": "stream",
          "name": "stdout",
          "text": [
            "3\n",
            "0\n",
            "1\n",
            "4\n"
          ]
        }
      ]
    },
    {
      "cell_type": "code",
      "source": [
        "#fifth day HackerRank challenge\n",
        "#https://www.hackerrank.com/challenges/write-a-function/problem?isFullScreen=true\n",
        "\n",
        "def is_leap(year):\n",
        "    leap = False\n",
        "\n",
        "    if((year % 4 == 0 and year % 100 != 0) or year % 400 == 0):\n",
        "        leap = True\n",
        "    else:\n",
        "        leap = False\n",
        "\n",
        "\n",
        "    return leap\n",
        "\n",
        "year = int(input())\n",
        "print(is_leap(year))"
      ],
      "metadata": {
        "colab": {
          "base_uri": "https://localhost:8080/"
        },
        "id": "rD0Yeoo2iqXo",
        "outputId": "331a50db-cdd6-4850-b904-ce371952e36c"
      },
      "execution_count": null,
      "outputs": [
        {
          "output_type": "stream",
          "name": "stdout",
          "text": [
            "10.25\n",
            "17\n",
            "5\n",
            "1.7425\n",
            "0.5125000000000001\n",
            "13\n"
          ]
        }
      ]
    },
    {
      "cell_type": "code",
      "source": [
        "#day 6 hacker rank tutorial\n",
        "#https://www.hackerrank.com/challenges/30-review-loop/problem?isFullScreen=true\n",
        "if __name__ == '__main__':\n",
        "    n = int(input())\n",
        "    strings = [input().strip() for _ in range(n)]\n",
        "    print(*[f\"{string[::2]} {string[1::2]}\" for string in strings],     hsep=\"\\n\")\n",
        "\n"
      ],
      "metadata": {
        "colab": {
          "base_uri": "https://localhost:8080/"
        },
        "id": "H0PZRW0JGjsP",
        "outputId": "eda13aaf-fd84-442e-c1df-1e979f8eb8cd"
      },
      "execution_count": null,
      "outputs": [
        {
          "output_type": "stream",
          "name": "stdout",
          "text": [
            "2\n",
            "hacker\n",
            "rank\n",
            "hce akr\n",
            "rn ak\n"
          ]
        }
      ]
    },
    {
      "cell_type": "code",
      "source": [
        "#sixth day HackerRank challenge\n",
        "#https://www.hackerrank.com/challenges/python-print/problem?isFullScreen=true\n",
        "\n",
        "if __name__ == '__main__':\n",
        "    n = int(input())\n",
        "    for i in range(n + 1):\n",
        "        if i > 0:\n",
        "            print(i, end='')\n"
      ],
      "metadata": {
        "id": "bJzrlf8-P9C_"
      },
      "execution_count": null,
      "outputs": []
    },
    {
      "cell_type": "code",
      "source": [
        "#day 7 hacker rank tutorial\n",
        "#https://www.hackerrank.com/challenges/30-arrays/problem?isFullScreen=true\n",
        "\n",
        "import math\n",
        "import os\n",
        "import random\n",
        "import re\n",
        "import sys\n",
        "\n",
        "\n",
        "\n",
        "if __name__ == '__main__':\n",
        "    n = int(input().strip())\n",
        "\n",
        "    arr = list(map(int, input().rstrip().split()))\n",
        "\n",
        "    for i in range(len(arr)):\n",
        "        print(arr[n - (i + 1)], end=' ')\n"
      ],
      "metadata": {
        "id": "qKDQKIvcSM0P"
      },
      "execution_count": null,
      "outputs": []
    },
    {
      "cell_type": "code",
      "source": [
        "#seventh day HackerRank challenge\n",
        "#https://www.hackerrank.com/challenges/list-comprehensions/problem?isFullScreen=true\n",
        "\n",
        "if __name__ == '__main__':\n",
        "    x = int(input())\n",
        "    y = int(input())\n",
        "    z = int(input())\n",
        "    n = int(input())\n",
        "\n",
        "    def monta_array(a, b, c, d, nms):\n",
        "        cont = 0\n",
        "        for i in range(a + 1):\n",
        "            for j in range(b + 1):\n",
        "                for k in range(c + 1):\n",
        "                    if i + j + k != d:\n",
        "                        nms.append([])\n",
        "                        nms[cont] = [i, j, k]\n",
        "                        cont += 1\n",
        "        return nms\n",
        "\n",
        "    arr = []\n",
        "    monta_array(x,y,z,n,arr)\n",
        "    print(arr)\n"
      ],
      "metadata": {
        "colab": {
          "base_uri": "https://localhost:8080/"
        },
        "id": "aJmP2WFXW_Wp",
        "outputId": "1685e951-0d3c-4718-d9e6-6397244f090b"
      },
      "execution_count": null,
      "outputs": [
        {
          "output_type": "stream",
          "name": "stdout",
          "text": [
            "1\n",
            "1\n",
            "1\n",
            "2\n",
            "[[0, 0, 0], [0, 0, 1], [0, 1, 0], [1, 0, 0], [1, 1, 1]]\n"
          ]
        }
      ]
    },
    {
      "cell_type": "code",
      "source": [
        "#day 8 hacker rank tutorial\n",
        "#https://www.hackerrank.com/domains/tutorials/30-days-of-code\n",
        "\n",
        "n = int(input())\n",
        "\n",
        "dic = {}\n",
        "\n",
        "for i in range(n):\n",
        "    name, number = input().split()\n",
        "    dic[name] = number\n",
        "\n",
        "for i in range(n):\n",
        "    try:\n",
        "        query = input()\n",
        "        if query in dic:\n",
        "            print(f\"{query}={dic[query]}\")\n",
        "        else:\n",
        "            print(\"Not found\")\n",
        "    except EOFError:\n",
        "        break"
      ],
      "metadata": {
        "colab": {
          "base_uri": "https://localhost:8080/"
        },
        "id": "xsw1LfTIyMCO",
        "outputId": "6eb41c10-3f7b-43c5-984c-6bfd8c000f3e"
      },
      "execution_count": 6,
      "outputs": [
        {
          "output_type": "stream",
          "name": "stdout",
          "text": [
            "1\n",
            "tom 1111\n",
            "tom\n",
            "tom=1111\n"
          ]
        }
      ]
    }
  ]
}