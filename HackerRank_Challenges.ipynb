{
  "nbformat": 4,
  "nbformat_minor": 0,
  "metadata": {
    "colab": {
      "provenance": [],
      "authorship_tag": "ABX9TyP04e9QTXzHevheamhEK06o",
      "include_colab_link": true
    },
    "kernelspec": {
      "name": "python3",
      "display_name": "Python 3"
    },
    "language_info": {
      "name": "python"
    }
  },
  "cells": [
    {
      "cell_type": "markdown",
      "metadata": {
        "id": "view-in-github",
        "colab_type": "text"
      },
      "source": [
        "<a href=\"https://colab.research.google.com/github/Lucas-Andrade-Projetos/HackerRank_Challenges/blob/main/HackerRank_Challenges.ipynb\" target=\"_parent\"><img src=\"https://colab.research.google.com/assets/colab-badge.svg\" alt=\"Open In Colab\"/></a>"
      ]
    },
    {
      "cell_type": "code",
      "execution_count": 1,
      "metadata": {
        "colab": {
          "base_uri": "https://localhost:8080/"
        },
        "id": "4MFbzAPu9z0z",
        "outputId": "90335ef9-8f36-4d33-976a-71d9511ff471"
      },
      "outputs": [
        {
          "output_type": "stream",
          "name": "stdout",
          "text": [
            "3\n",
            "2\n",
            "5\n",
            "1\n",
            "6\n"
          ]
        }
      ],
      "source": [
        "#First day challenge HackerRank\n",
        "#https://www.hackerrank.com/challenges/python-arithmetic-operators/problem?isFullScreen=true DATE:03/25/2024\n",
        "\n",
        "if __name__ == '__main__':\n",
        "    a = int(input())\n",
        "    b = int(input())\n",
        "\n",
        "print(a+b)\n",
        "print(a-b)\n",
        "print(a*b)\n"
      ]
    }
  ]
}