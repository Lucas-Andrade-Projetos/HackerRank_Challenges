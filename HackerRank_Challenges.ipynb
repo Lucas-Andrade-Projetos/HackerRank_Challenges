{
  "nbformat": 4,
  "nbformat_minor": 0,
  "metadata": {
    "colab": {
      "provenance": [],
      "authorship_tag": "ABX9TyMwh5dPQnUD1hL6gypu0AUp",
      "include_colab_link": true
    },
    "kernelspec": {
      "name": "python3",
      "display_name": "Python 3"
    },
    "language_info": {
      "name": "python"
    }
  },
  "cells": [
    {
      "cell_type": "markdown",
      "metadata": {
        "id": "view-in-github",
        "colab_type": "text"
      },
      "source": [
        "<a href=\"https://colab.research.google.com/github/Lucas-Andrade-Projetos/HackerRank_Challenges/blob/main/HackerRank_Challenges.ipynb\" target=\"_parent\"><img src=\"https://colab.research.google.com/assets/colab-badge.svg\" alt=\"Open In Colab\"/></a>"
      ]
    },
    {
      "cell_type": "code",
      "execution_count": null,
      "metadata": {
        "id": "8m4bvhM6FSd0"
      },
      "outputs": [],
      "source": [
        "#First day challenge HackerRank\n",
        "#https://www.hackerrank.com/challenges/python-arithmetic-operators/problem?isFullScreen=true DATE:03/25/2024\n",
        "\n",
        "if __name__ == '__main__':\n",
        "    a = int(input())\n",
        "    b = int(input())\n",
        "\n",
        "print(a+b)\n",
        "print(a-b)\n",
        "print(a*b)"
      ]
    },
    {
      "cell_type": "code",
      "source": [
        "#Second day challenge HackerRank\n",
        "#https://www.hackerrank.com/challenges/py-if-else/problem?isFullScreen=true DATE:03/26/2024\n",
        "\n",
        "import math\n",
        "import os\n",
        "import random\n",
        "import re\n",
        "import sys\n",
        "\n",
        "\n",
        "\n",
        "if __name__ == '__main__':\n",
        "    n = int(input().strip())\n",
        "\n",
        "    if (n%2):\n",
        "        print('Weird')\n",
        "    else:\n",
        "        if n <= 6 :\n",
        "            print('Not Weird')\n",
        "        elif n <= 20 :\n",
        "            print('Weird')\n",
        "        else:\n",
        "            print('Not Weird')\n"
      ],
      "metadata": {
        "colab": {
          "base_uri": "https://localhost:8080/"
        },
        "id": "vOjcOSPNY2to",
        "outputId": "e89977a1-c69e-440c-a603-3bd3c4a3ef93"
      },
      "execution_count": null,
      "outputs": [
        {
          "output_type": "stream",
          "name": "stdout",
          "text": [
            "20\n",
            "Weird\n"
          ]
        }
      ]
    },
    {
      "cell_type": "code",
      "source": [
        "#Second day challenge CodeWars\n",
        "#https://www.codewars.com/kata/51f2d1cafc9c0f745c00037d/train/python\n",
        "\n",
        "def solution(text, ending):\n",
        "   return text[-len(ending):] == ending\n"
      ],
      "metadata": {
        "id": "7Vm79d2beZqM"
      },
      "execution_count": null,
      "outputs": []
    },
    {
      "cell_type": "code",
      "source": [
        "#Third Day HackerRank challenge\n",
        "#https://www.hackerrank.com/challenges/python-division/problem?isFullScreen=true\n",
        "if __name__ == '__main__':\n",
        "    a = int(input())\n",
        "    b = int(input())\n",
        "\n",
        "    print(int(a/b))\n",
        "    print(float(a/b))"
      ],
      "metadata": {
        "id": "L_gIZro0vWye"
      },
      "execution_count": null,
      "outputs": []
    },
    {
      "cell_type": "code",
      "source": [
        "#fourth day HackerRank challenge\n",
        "#https://www.hackerrank.com/challenges/python-loops/problem?isFullScreen=true\n",
        "if __name__ == '__main__':\n",
        "    n = int(input())\n",
        "\n",
        "    for x in range(n):\n",
        "        print(x*x)"
      ],
      "metadata": {
        "colab": {
          "base_uri": "https://localhost:8080/"
        },
        "id": "7-37T4iQVvrZ",
        "outputId": "10bc6cf7-c84f-43b2-81d0-d6f74ca4c3fc"
      },
      "execution_count": null,
      "outputs": [
        {
          "output_type": "stream",
          "name": "stdout",
          "text": [
            "3\n",
            "0\n",
            "1\n",
            "4\n"
          ]
        }
      ]
    },
    {
      "cell_type": "code",
      "source": [
        "#fifth day HackerRank challenge\n",
        "#https://www.hackerrank.com/challenges/write-a-function/problem?isFullScreen=true\n",
        "\n",
        "def is_leap(year):\n",
        "    leap = False\n",
        "\n",
        "    if((year % 4 == 0 and year % 100 != 0) or year % 400 == 0):\n",
        "        leap = True\n",
        "    else:\n",
        "        leap = False\n",
        "\n",
        "\n",
        "    return leap\n",
        "\n",
        "year = int(input())\n",
        "print(is_leap(year))"
      ],
      "metadata": {
        "colab": {
          "base_uri": "https://localhost:8080/"
        },
        "id": "rD0Yeoo2iqXo",
        "outputId": "331a50db-cdd6-4850-b904-ce371952e36c"
      },
      "execution_count": null,
      "outputs": [
        {
          "output_type": "stream",
          "name": "stdout",
          "text": [
            "10.25\n",
            "17\n",
            "5\n",
            "1.7425\n",
            "0.5125000000000001\n",
            "13\n"
          ]
        }
      ]
    },
    {
      "cell_type": "code",
      "source": [
        "#day 6 HackerRank tutorial\n",
        "#https://www.hackerrank.com/challenges/30-review-loop/problem?isFullScreen=true\n",
        "if __name__ == '__main__':\n",
        "    n = int(input())\n",
        "    strings = [input().strip() for _ in range(n)]\n",
        "    print(*[f\"{string[::2]} {string[1::2]}\" for string in strings],     hsep=\"\\n\")\n",
        "\n"
      ],
      "metadata": {
        "colab": {
          "base_uri": "https://localhost:8080/"
        },
        "id": "H0PZRW0JGjsP",
        "outputId": "eda13aaf-fd84-442e-c1df-1e979f8eb8cd"
      },
      "execution_count": null,
      "outputs": [
        {
          "output_type": "stream",
          "name": "stdout",
          "text": [
            "2\n",
            "hacker\n",
            "rank\n",
            "hce akr\n",
            "rn ak\n"
          ]
        }
      ]
    },
    {
      "cell_type": "code",
      "source": [
        "#sixth day HackerRank challenge\n",
        "#https://www.hackerrank.com/challenges/python-print/problem?isFullScreen=true\n",
        "\n",
        "if __name__ == '__main__':\n",
        "    n = int(input())\n",
        "    for i in range(n + 1):\n",
        "        if i > 0:\n",
        "            print(i, end='')\n"
      ],
      "metadata": {
        "id": "bJzrlf8-P9C_"
      },
      "execution_count": null,
      "outputs": []
    },
    {
      "cell_type": "code",
      "source": [
        "#day 7 HackerRank tutorial\n",
        "#https://www.hackerrank.com/challenges/30-arrays/problem?isFullScreen=true\n",
        "\n",
        "import math\n",
        "import os\n",
        "import random\n",
        "import re\n",
        "import sys\n",
        "\n",
        "\n",
        "\n",
        "if __name__ == '__main__':\n",
        "    n = int(input().strip())\n",
        "\n",
        "    arr = list(map(int, input().rstrip().split()))\n",
        "\n",
        "    for i in range(len(arr)):\n",
        "        print(arr[n - (i + 1)], end=' ')\n"
      ],
      "metadata": {
        "id": "qKDQKIvcSM0P"
      },
      "execution_count": null,
      "outputs": []
    },
    {
      "cell_type": "code",
      "source": [
        "#seventh day HackerRank challenge\n",
        "#https://www.hackerrank.com/challenges/list-comprehensions/problem?isFullScreen=true\n",
        "\n",
        "if __name__ == '__main__':\n",
        "    x = int(input())\n",
        "    y = int(input())\n",
        "    z = int(input())\n",
        "    n = int(input())\n",
        "\n",
        "    def monta_array(a, b, c, d, nms):\n",
        "        cont = 0\n",
        "        for i in range(a + 1):\n",
        "            for j in range(b + 1):\n",
        "                for k in range(c + 1):\n",
        "                    if i + j + k != d:\n",
        "                        nms.append([])\n",
        "                        nms[cont] = [i, j, k]\n",
        "                        cont += 1\n",
        "        return nms\n",
        "\n",
        "    arr = []\n",
        "    monta_array(x,y,z,n,arr)\n",
        "    print(arr)\n"
      ],
      "metadata": {
        "colab": {
          "base_uri": "https://localhost:8080/"
        },
        "id": "aJmP2WFXW_Wp",
        "outputId": "1685e951-0d3c-4718-d9e6-6397244f090b"
      },
      "execution_count": null,
      "outputs": [
        {
          "output_type": "stream",
          "name": "stdout",
          "text": [
            "1\n",
            "1\n",
            "1\n",
            "2\n",
            "[[0, 0, 0], [0, 0, 1], [0, 1, 0], [1, 0, 0], [1, 1, 1]]\n"
          ]
        }
      ]
    },
    {
      "cell_type": "code",
      "source": [
        "#day 8 HackerRank tutorial\n",
        "#https://www.hackerrank.com/domains/tutorials/30-days-of-code\n",
        "\n",
        "n = int(input())\n",
        "\n",
        "dic = {}\n",
        "\n",
        "for i in range(n):\n",
        "    name, number = input().split()\n",
        "    dic[name] = number\n",
        "\n",
        "for i in range(n):\n",
        "    try:\n",
        "        query = input()\n",
        "        if query in dic:\n",
        "            print(f\"{query}={dic[query]}\")\n",
        "        else:\n",
        "            print(\"Not found\")\n",
        "    except EOFError:\n",
        "        break"
      ],
      "metadata": {
        "colab": {
          "base_uri": "https://localhost:8080/"
        },
        "id": "xsw1LfTIyMCO",
        "outputId": "6eb41c10-3f7b-43c5-984c-6bfd8c000f3e"
      },
      "execution_count": null,
      "outputs": [
        {
          "output_type": "stream",
          "name": "stdout",
          "text": [
            "1\n",
            "tom 1111\n",
            "tom\n",
            "tom=1111\n"
          ]
        }
      ]
    },
    {
      "cell_type": "code",
      "source": [
        "#eighth day HackerRank challenge\n",
        "#https://www.hackerrank.com/challenges/find-second-maximum-number-in-a-list/problem?isFullScreen=true\n",
        "\n",
        "def order(arr):\n",
        "    rem_dup = set(arr)\n",
        "    arr_ord = sorted(rem_dup, reverse=True)\n",
        "    return arr_ord[1]\n",
        "if __name__ == '__main__':\n",
        "    n = int(input())\n",
        "    arr = map(int, input().split())\n",
        "\n",
        "    res = order(arr)\n",
        "    print(res)"
      ],
      "metadata": {
        "colab": {
          "base_uri": "https://localhost:8080/"
        },
        "id": "cZXOs9XfEd2w",
        "outputId": "07202464-a4dc-43ca-ee2c-7ff59a5497a6"
      },
      "execution_count": null,
      "outputs": [
        {
          "output_type": "stream",
          "name": "stdout",
          "text": [
            "2\n",
            "1 2\n",
            "1\n"
          ]
        }
      ]
    },
    {
      "cell_type": "code",
      "source": [
        "#day 9 HackerRank challenge\n",
        "#https://www.hackerrank.com/challenges/nested-list/problem?isFullScreen=true\n",
        "\n",
        "if __name__ == '__main__':\n",
        "\n",
        "    records = {}\n",
        "\n",
        "    for _ in range(int(input())):\n",
        "        name = input()\n",
        "        score = float(input())\n",
        "        records[name] = score\n",
        "\n",
        "    records_ord = dict(sorted(records.items(), key=lambda x: x[1], reverse=False))\n",
        "    i= 0\n",
        "    while True:\n",
        "        if list(records_ord.values())[i] != list(records_ord.values())[i + 1]:\n",
        "            second = list(records_ord.values())[i + 1]\n",
        "            break\n",
        "        i += 1\n",
        "\n",
        "    equal = {}\n",
        "\n",
        "    for name, score in records_ord.items():\n",
        "        if score == second:\n",
        "            equal[name] = score\n",
        "\n",
        "    equal = dict(sorted(equal.items()))\n",
        "\n",
        "    for name in equal.keys():\n",
        "        print(name)\n"
      ],
      "metadata": {
        "id": "iDRX5NdHHOJs"
      },
      "execution_count": null,
      "outputs": []
    },
    {
      "cell_type": "code",
      "source": [
        "#ninth day HackerRank tutorial\n",
        "#https://www.hackerrank.com/challenges/30-binary-numbers/problem?isFullScreen=true\n",
        "\n",
        "import math\n",
        "import os\n",
        "import random\n",
        "import re\n",
        "import sys\n",
        "\n",
        "def ones_repeat(number):\n",
        "\n",
        "    number_string = str(number)\n",
        "\n",
        "    max_cont = 0\n",
        "    count = 0\n",
        "\n",
        "    for i in number_string:\n",
        "        if i == '1':\n",
        "            count += 1\n",
        "            max_cont = max(max_cont, count)\n",
        "        else:\n",
        "            count = 0\n",
        "    return max_cont\n",
        "\n",
        "    return max_cont\n",
        "\n",
        "if __name__ == '__main__':\n",
        "    n = int(input().strip())\n",
        "    n_bin = bin(n)[2:]\n",
        "\n",
        "    total = ones_repeat(n_bin)\n",
        "\n",
        "    print(total)\n",
        "\n"
      ],
      "metadata": {
        "colab": {
          "base_uri": "https://localhost:8080/"
        },
        "id": "jmbEoc7pZEul",
        "outputId": "f3614d3d-600b-4e8b-bbdc-fe0c9981f37d"
      },
      "execution_count": null,
      "outputs": [
        {
          "output_type": "stream",
          "name": "stdout",
          "text": [
            "13\n",
            "2\n"
          ]
        }
      ]
    },
    {
      "cell_type": "code",
      "source": [
        "#day 10 HackerRank challenge\n",
        "#https://www.hackerrank.com/challenges/finding-the-percentage/problem?isFullScreen=true\n",
        "\n",
        "if __name__ == '__main__':\n",
        "    n = int(input())\n",
        "    student_marks = {}\n",
        "    for _ in range(n):\n",
        "        name, *line = input().split()\n",
        "        scores = list(map(float, line))\n",
        "        student_marks[name] = scores\n",
        "    query_name = input()\n",
        "\n",
        "    sum_ = sum(student_marks[query_name])/3\n",
        "    print(\"%.2f\" % sum_)"
      ],
      "metadata": {
        "id": "dn0EFeptoFlr"
      },
      "execution_count": null,
      "outputs": []
    },
    {
      "cell_type": "code",
      "source": [
        "#Day 10 HackerRank tutorial\n",
        "#https://www.hackerrank.com/challenges/30-2d-arrays/problem?isFullScreen=true\n",
        "import math\n",
        "import os\n",
        "import random\n",
        "import re\n",
        "import sys\n",
        "\n",
        "def max_value(arr):\n",
        "    #iniciar com o menor valor possível para caso o valor ser menor que zero\n",
        "    #ele assumir como valor máximo isso ajuda muito!!!\n",
        "    max_r = float('-inf')\n",
        "    #[i][j][i][j+1][i][j+2][i+1][j+1][i+2][j][i+2][j+1][i+2][j+2]\n",
        "    for i in range(4):\n",
        "        for j in range(4):\n",
        "            first = sum(arr[i][j:j+3])\n",
        "            second = arr[i+1][j+1]\n",
        "            third = sum(arr[i+2][j:j+3])\n",
        "\n",
        "            hourglass = first + second + third\n",
        "\n",
        "            if hourglass > max_r:\n",
        "                max_r = hourglass\n",
        "    return max_r\n",
        "\n",
        "if __name__ == '__main__':\n",
        "\n",
        "    arr = []\n",
        "\n",
        "    for _ in range(6):\n",
        "        arr.append(list(map(int, input().rstrip().split())))\n",
        "    max_r = max_value(arr)\n",
        "    print(max_r)"
      ],
      "metadata": {
        "colab": {
          "base_uri": "https://localhost:8080/",
          "height": 356
        },
        "id": "Nr7a9o9FmN_O",
        "outputId": "74cb41ad-6760-4a4c-8b5a-d361cdd81995"
      },
      "execution_count": 4,
      "outputs": [
        {
          "output_type": "error",
          "ename": "KeyboardInterrupt",
          "evalue": "Interrupted by user",
          "traceback": [
            "\u001b[0;31m---------------------------------------------------------------------------\u001b[0m",
            "\u001b[0;31mKeyboardInterrupt\u001b[0m                         Traceback (most recent call last)",
            "\u001b[0;32m<ipython-input-4-e8817b14938e>\u001b[0m in \u001b[0;36m<cell line: 24>\u001b[0;34m()\u001b[0m\n\u001b[1;32m     27\u001b[0m \u001b[0;34m\u001b[0m\u001b[0m\n\u001b[1;32m     28\u001b[0m     \u001b[0;32mfor\u001b[0m \u001b[0m_\u001b[0m \u001b[0;32min\u001b[0m \u001b[0mrange\u001b[0m\u001b[0;34m(\u001b[0m\u001b[0;36m6\u001b[0m\u001b[0;34m)\u001b[0m\u001b[0;34m:\u001b[0m\u001b[0;34m\u001b[0m\u001b[0;34m\u001b[0m\u001b[0m\n\u001b[0;32m---> 29\u001b[0;31m         \u001b[0marr\u001b[0m\u001b[0;34m.\u001b[0m\u001b[0mappend\u001b[0m\u001b[0;34m(\u001b[0m\u001b[0mlist\u001b[0m\u001b[0;34m(\u001b[0m\u001b[0mmap\u001b[0m\u001b[0;34m(\u001b[0m\u001b[0mint\u001b[0m\u001b[0;34m,\u001b[0m \u001b[0minput\u001b[0m\u001b[0;34m(\u001b[0m\u001b[0;34m)\u001b[0m\u001b[0;34m.\u001b[0m\u001b[0mrstrip\u001b[0m\u001b[0;34m(\u001b[0m\u001b[0;34m)\u001b[0m\u001b[0;34m.\u001b[0m\u001b[0msplit\u001b[0m\u001b[0;34m(\u001b[0m\u001b[0;34m)\u001b[0m\u001b[0;34m)\u001b[0m\u001b[0;34m)\u001b[0m\u001b[0;34m)\u001b[0m\u001b[0;34m\u001b[0m\u001b[0;34m\u001b[0m\u001b[0m\n\u001b[0m\u001b[1;32m     30\u001b[0m     \u001b[0mmax_r\u001b[0m \u001b[0;34m=\u001b[0m \u001b[0mmax_value\u001b[0m\u001b[0;34m(\u001b[0m\u001b[0marr\u001b[0m\u001b[0;34m)\u001b[0m\u001b[0;34m\u001b[0m\u001b[0;34m\u001b[0m\u001b[0m\n\u001b[1;32m     31\u001b[0m \u001b[0;34m\u001b[0m\u001b[0m\n",
            "\u001b[0;32m/usr/local/lib/python3.10/dist-packages/ipykernel/kernelbase.py\u001b[0m in \u001b[0;36mraw_input\u001b[0;34m(self, prompt)\u001b[0m\n\u001b[1;32m    849\u001b[0m                 \u001b[0;34m\"raw_input was called, but this frontend does not support input requests.\"\u001b[0m\u001b[0;34m\u001b[0m\u001b[0;34m\u001b[0m\u001b[0m\n\u001b[1;32m    850\u001b[0m             )\n\u001b[0;32m--> 851\u001b[0;31m         return self._input_request(str(prompt),\n\u001b[0m\u001b[1;32m    852\u001b[0m             \u001b[0mself\u001b[0m\u001b[0;34m.\u001b[0m\u001b[0m_parent_ident\u001b[0m\u001b[0;34m,\u001b[0m\u001b[0;34m\u001b[0m\u001b[0;34m\u001b[0m\u001b[0m\n\u001b[1;32m    853\u001b[0m             \u001b[0mself\u001b[0m\u001b[0;34m.\u001b[0m\u001b[0m_parent_header\u001b[0m\u001b[0;34m,\u001b[0m\u001b[0;34m\u001b[0m\u001b[0;34m\u001b[0m\u001b[0m\n",
            "\u001b[0;32m/usr/local/lib/python3.10/dist-packages/ipykernel/kernelbase.py\u001b[0m in \u001b[0;36m_input_request\u001b[0;34m(self, prompt, ident, parent, password)\u001b[0m\n\u001b[1;32m    893\u001b[0m             \u001b[0;32mexcept\u001b[0m \u001b[0mKeyboardInterrupt\u001b[0m\u001b[0;34m:\u001b[0m\u001b[0;34m\u001b[0m\u001b[0;34m\u001b[0m\u001b[0m\n\u001b[1;32m    894\u001b[0m                 \u001b[0;31m# re-raise KeyboardInterrupt, to truncate traceback\u001b[0m\u001b[0;34m\u001b[0m\u001b[0;34m\u001b[0m\u001b[0m\n\u001b[0;32m--> 895\u001b[0;31m                 \u001b[0;32mraise\u001b[0m \u001b[0mKeyboardInterrupt\u001b[0m\u001b[0;34m(\u001b[0m\u001b[0;34m\"Interrupted by user\"\u001b[0m\u001b[0;34m)\u001b[0m \u001b[0;32mfrom\u001b[0m \u001b[0;32mNone\u001b[0m\u001b[0;34m\u001b[0m\u001b[0;34m\u001b[0m\u001b[0m\n\u001b[0m\u001b[1;32m    896\u001b[0m             \u001b[0;32mexcept\u001b[0m \u001b[0mException\u001b[0m \u001b[0;32mas\u001b[0m \u001b[0me\u001b[0m\u001b[0;34m:\u001b[0m\u001b[0;34m\u001b[0m\u001b[0;34m\u001b[0m\u001b[0m\n\u001b[1;32m    897\u001b[0m                 \u001b[0mself\u001b[0m\u001b[0;34m.\u001b[0m\u001b[0mlog\u001b[0m\u001b[0;34m.\u001b[0m\u001b[0mwarning\u001b[0m\u001b[0;34m(\u001b[0m\u001b[0;34m\"Invalid Message:\"\u001b[0m\u001b[0;34m,\u001b[0m \u001b[0mexc_info\u001b[0m\u001b[0;34m=\u001b[0m\u001b[0;32mTrue\u001b[0m\u001b[0;34m)\u001b[0m\u001b[0;34m\u001b[0m\u001b[0;34m\u001b[0m\u001b[0m\n",
            "\u001b[0;31mKeyboardInterrupt\u001b[0m: Interrupted by user"
          ]
        }
      ]
    }
  ]
}