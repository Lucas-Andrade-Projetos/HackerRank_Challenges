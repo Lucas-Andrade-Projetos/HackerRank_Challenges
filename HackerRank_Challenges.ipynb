{
  "nbformat": 4,
  "nbformat_minor": 0,
  "metadata": {
    "colab": {
      "provenance": [],
      "authorship_tag": "ABX9TyORcmgYTxU8nOstZGkzXW6M",
      "include_colab_link": true
    },
    "kernelspec": {
      "name": "python3",
      "display_name": "Python 3"
    },
    "language_info": {
      "name": "python"
    }
  },
  "cells": [
    {
      "cell_type": "markdown",
      "metadata": {
        "id": "view-in-github",
        "colab_type": "text"
      },
      "source": [
        "<a href=\"https://colab.research.google.com/github/Lucas-Andrade-Projetos/HackerRank_Challenges/blob/main/HackerRank_Challenges.ipynb\" target=\"_parent\"><img src=\"https://colab.research.google.com/assets/colab-badge.svg\" alt=\"Open In Colab\"/></a>"
      ]
    },
    {
      "cell_type": "code",
      "execution_count": null,
      "metadata": {
        "id": "8m4bvhM6FSd0"
      },
      "outputs": [],
      "source": [
        "#First day challenge HackerRank\n",
        "#https://www.hackerrank.com/challenges/python-arithmetic-operators/problem?isFullScreen=true DATE:03/25/2024\n",
        "\n",
        "if __name__ == '__main__':\n",
        "    a = int(input())\n",
        "    b = int(input())\n",
        "\n",
        "print(a+b)\n",
        "print(a-b)\n",
        "print(a*b)"
      ]
    },
    {
      "cell_type": "code",
      "source": [
        "#Second day challenge HackerRank\n",
        "#https://www.hackerrank.com/challenges/py-if-else/problem?isFullScreen=true DATE:03/26/2024\n",
        "\n",
        "import math\n",
        "import os\n",
        "import random\n",
        "import re\n",
        "import sys\n",
        "\n",
        "\n",
        "\n",
        "if __name__ == '__main__':\n",
        "    n = int(input().strip())\n",
        "\n",
        "    if (n%2):\n",
        "        print('Weird')\n",
        "    else:\n",
        "        if n <= 6 :\n",
        "            print('Not Weird')\n",
        "        elif n <= 20 :\n",
        "            print('Weird')\n",
        "        else:\n",
        "            print('Not Weird')\n"
      ],
      "metadata": {
        "id": "vOjcOSPNY2to"
      },
      "execution_count": null,
      "outputs": []
    },
    {
      "cell_type": "code",
      "source": [
        "#Second day challenge CodeWars\n",
        "#https://www.codewars.com/kata/51f2d1cafc9c0f745c00037d/train/python\n",
        "\n",
        "def solution(text, ending):\n",
        "   return text[-len(ending):] == ending\n"
      ],
      "metadata": {
        "id": "7Vm79d2beZqM"
      },
      "execution_count": null,
      "outputs": []
    },
    {
      "cell_type": "code",
      "source": [
        "#Third Day HackerRank challenge\n",
        "#https://www.hackerrank.com/challenges/python-division/problem?isFullScreen=true\n",
        "if __name__ == '__main__':\n",
        "    a = int(input())\n",
        "    b = int(input())\n",
        "\n",
        "    print(int(a/b))\n",
        "    print(float(a/b))"
      ],
      "metadata": {
        "id": "L_gIZro0vWye"
      },
      "execution_count": null,
      "outputs": []
    },
    {
      "cell_type": "code",
      "source": [
        "#fourth day HackerRank challenge\n",
        "#https://www.hackerrank.com/challenges/python-loops/problem?isFullScreen=true\n",
        "if __name__ == '__main__':\n",
        "    n = int(input())\n",
        "\n",
        "    for x in range(n):\n",
        "        print(x*x)"
      ],
      "metadata": {
        "id": "7-37T4iQVvrZ"
      },
      "execution_count": null,
      "outputs": []
    },
    {
      "cell_type": "code",
      "source": [
        "#fifth day HackerRank challenge\n",
        "#https://www.hackerrank.com/challenges/write-a-function/problem?isFullScreen=true\n",
        "\n",
        "def is_leap(year):\n",
        "    leap = False\n",
        "\n",
        "    if((year % 4 == 0 and year % 100 != 0) or year % 400 == 0):\n",
        "        leap = True\n",
        "    else:\n",
        "        leap = False\n",
        "\n",
        "\n",
        "    return leap\n",
        "\n",
        "year = int(input())\n",
        "print(is_leap(year))"
      ],
      "metadata": {
        "id": "rD0Yeoo2iqXo"
      },
      "execution_count": null,
      "outputs": []
    },
    {
      "cell_type": "code",
      "source": [
        "#day 6 HackerRank tutorial\n",
        "#https://www.hackerrank.com/challenges/30-review-loop/problem?isFullScreen=true\n",
        "if __name__ == '__main__':\n",
        "    n = int(input())\n",
        "    strings = [input().strip() for _ in range(n)]\n",
        "    print(*[f\"{string[::2]} {string[1::2]}\" for string in strings],     hsep=\"\\n\")\n",
        "\n"
      ],
      "metadata": {
        "id": "H0PZRW0JGjsP"
      },
      "execution_count": null,
      "outputs": []
    },
    {
      "cell_type": "code",
      "source": [
        "#sixth day HackerRank challenge\n",
        "#https://www.hackerrank.com/challenges/python-print/problem?isFullScreen=true\n",
        "\n",
        "if __name__ == '__main__':\n",
        "    n = int(input())\n",
        "    for i in range(n + 1):\n",
        "        if i > 0:\n",
        "            print(i, end='')\n"
      ],
      "metadata": {
        "id": "bJzrlf8-P9C_"
      },
      "execution_count": null,
      "outputs": []
    },
    {
      "cell_type": "code",
      "source": [
        "#day 7 HackerRank tutorial\n",
        "#https://www.hackerrank.com/challenges/30-arrays/problem?isFullScreen=true\n",
        "\n",
        "import math\n",
        "import os\n",
        "import random\n",
        "import re\n",
        "import sys\n",
        "\n",
        "\n",
        "\n",
        "if __name__ == '__main__':\n",
        "    n = int(input().strip())\n",
        "\n",
        "    arr = list(map(int, input().rstrip().split()))\n",
        "\n",
        "    for i in range(len(arr)):\n",
        "        print(arr[n - (i + 1)], end=' ')\n"
      ],
      "metadata": {
        "id": "qKDQKIvcSM0P"
      },
      "execution_count": null,
      "outputs": []
    },
    {
      "cell_type": "code",
      "source": [
        "#seventh day HackerRank challenge\n",
        "#https://www.hackerrank.com/challenges/list-comprehensions/problem?isFullScreen=true\n",
        "\n",
        "if __name__ == '__main__':\n",
        "    x = int(input())\n",
        "    y = int(input())\n",
        "    z = int(input())\n",
        "    n = int(input())\n",
        "\n",
        "    def monta_array(a, b, c, d, nms):\n",
        "        cont = 0\n",
        "        for i in range(a + 1):\n",
        "            for j in range(b + 1):\n",
        "                for k in range(c + 1):\n",
        "                    if i + j + k != d:\n",
        "                        nms.append([])\n",
        "                        nms[cont] = [i, j, k]\n",
        "                        cont += 1\n",
        "        return nms\n",
        "\n",
        "    arr = []\n",
        "    monta_array(x,y,z,n,arr)\n",
        "    print(arr)\n"
      ],
      "metadata": {
        "id": "aJmP2WFXW_Wp"
      },
      "execution_count": null,
      "outputs": []
    },
    {
      "cell_type": "code",
      "source": [
        "#day 8 HackerRank tutorial\n",
        "#https://www.hackerrank.com/domains/tutorials/30-days-of-code\n",
        "\n",
        "n = int(input())\n",
        "\n",
        "dic = {}\n",
        "\n",
        "for i in range(n):\n",
        "    name, number = input().split()\n",
        "    dic[name] = number\n",
        "\n",
        "for i in range(n):\n",
        "    try:\n",
        "        query = input()\n",
        "        if query in dic:\n",
        "            print(f\"{query}={dic[query]}\")\n",
        "        else:\n",
        "            print(\"Not found\")\n",
        "    except EOFError:\n",
        "        break"
      ],
      "metadata": {
        "id": "xsw1LfTIyMCO"
      },
      "execution_count": null,
      "outputs": []
    },
    {
      "cell_type": "code",
      "source": [
        "#eighth day HackerRank challenge\n",
        "#https://www.hackerrank.com/challenges/find-second-maximum-number-in-a-list/problem?isFullScreen=true\n",
        "\n",
        "def order(arr):\n",
        "    rem_dup = set(arr)\n",
        "    arr_ord = sorted(rem_dup, reverse=True)\n",
        "    return arr_ord[1]\n",
        "if __name__ == '__main__':\n",
        "    n = int(input())\n",
        "    arr = map(int, input().split())\n",
        "\n",
        "    res = order(arr)\n",
        "    print(res)"
      ],
      "metadata": {
        "id": "cZXOs9XfEd2w"
      },
      "execution_count": null,
      "outputs": []
    },
    {
      "cell_type": "code",
      "source": [
        "#day 9 HackerRank challenge\n",
        "#https://www.hackerrank.com/challenges/nested-list/problem?isFullScreen=true\n",
        "\n",
        "if __name__ == '__main__':\n",
        "\n",
        "    records = {}\n",
        "\n",
        "    for _ in range(int(input())):\n",
        "        name = input()\n",
        "        score = float(input())\n",
        "        records[name] = score\n",
        "\n",
        "    records_ord = dict(sorted(records.items(), key=lambda x: x[1], reverse=False))\n",
        "    i= 0\n",
        "    while True:\n",
        "        if list(records_ord.values())[i] != list(records_ord.values())[i + 1]:\n",
        "            second = list(records_ord.values())[i + 1]\n",
        "            break\n",
        "        i += 1\n",
        "\n",
        "    equal = {}\n",
        "\n",
        "    for name, score in records_ord.items():\n",
        "        if score == second:\n",
        "            equal[name] = score\n",
        "\n",
        "    equal = dict(sorted(equal.items()))\n",
        "\n",
        "    for name in equal.keys():\n",
        "        print(name)\n"
      ],
      "metadata": {
        "id": "iDRX5NdHHOJs"
      },
      "execution_count": null,
      "outputs": []
    },
    {
      "cell_type": "code",
      "source": [
        "#ninth day HackerRank tutorial\n",
        "#https://www.hackerrank.com/challenges/30-binary-numbers/problem?isFullScreen=true\n",
        "\n",
        "import math\n",
        "import os\n",
        "import random\n",
        "import re\n",
        "import sys\n",
        "\n",
        "def ones_repeat(number):\n",
        "\n",
        "    number_string = str(number)\n",
        "\n",
        "    max_cont = 0\n",
        "    count = 0\n",
        "\n",
        "    for i in number_string:\n",
        "        if i == '1':\n",
        "            count += 1\n",
        "            max_cont = max(max_cont, count)\n",
        "        else:\n",
        "            count = 0\n",
        "    return max_cont\n",
        "\n",
        "    return max_cont\n",
        "\n",
        "if __name__ == '__main__':\n",
        "    n = int(input().strip())\n",
        "    n_bin = bin(n)[2:]\n",
        "\n",
        "    total = ones_repeat(n_bin)\n",
        "\n",
        "    print(total)\n",
        "\n"
      ],
      "metadata": {
        "id": "jmbEoc7pZEul"
      },
      "execution_count": null,
      "outputs": []
    },
    {
      "cell_type": "code",
      "source": [
        "#day 10 HackerRank challenge\n",
        "#https://www.hackerrank.com/challenges/finding-the-percentage/problem?isFullScreen=true\n",
        "\n",
        "if __name__ == '__main__':\n",
        "    n = int(input())\n",
        "    student_marks = {}\n",
        "    for _ in range(n):\n",
        "        name, *line = input().split()\n",
        "        scores = list(map(float, line))\n",
        "        student_marks[name] = scores\n",
        "    query_name = input()\n",
        "\n",
        "    sum_ = sum(student_marks[query_name])/3\n",
        "    print(\"%.2f\" % sum_)"
      ],
      "metadata": {
        "id": "dn0EFeptoFlr"
      },
      "execution_count": null,
      "outputs": []
    },
    {
      "cell_type": "code",
      "source": [
        "#Tenth day HackerRank tutorial\n",
        "#https://www.hackerrank.com/challenges/30-2d-arrays/problem?isFullScreen=true\n",
        "import math\n",
        "import os\n",
        "import random\n",
        "import re\n",
        "import sys\n",
        "\n",
        "def max_value(arr):\n",
        "    #iniciar com o menor valor possível para caso o valor ser menor que zero\n",
        "    #ele assumir como valor máximo isso ajuda muito!!!\n",
        "    max_r = float('-inf')\n",
        "    #[i][j][i][j+1][i][j+2][i+1][j+1][i+2][j][i+2][j+1][i+2][j+2]\n",
        "    for i in range(4):\n",
        "        for j in range(4):\n",
        "            first = sum(arr[i][j:j+3])\n",
        "            second = arr[i+1][j+1]\n",
        "            third = sum(arr[i+2][j:j+3])\n",
        "\n",
        "            hourglass = first + second + third\n",
        "\n",
        "            if hourglass > max_r:\n",
        "                max_r = hourglass\n",
        "    return max_r\n",
        "\n",
        "if __name__ == '__main__':\n",
        "\n",
        "    arr = []\n",
        "\n",
        "    for _ in range(6):\n",
        "        arr.append(list(map(int, input().rstrip().split())))\n",
        "    max_r = max_value(arr)\n",
        "    print(max_r)"
      ],
      "metadata": {
        "id": "Nr7a9o9FmN_O"
      },
      "execution_count": null,
      "outputs": []
    },
    {
      "cell_type": "code",
      "source": [
        "#day 11 HackerRank challenge\n",
        "#https://www.hackerrank.com/challenges/python-lists/problem?isFullScreen=true\n",
        "\n",
        "def command(com):\n",
        "    numbers = []\n",
        "    if 'insert' in com:\n",
        "        numbers = com.split()\n",
        "        index = int(numbers[1])\n",
        "        value = int(numbers[2])\n",
        "        arr.insert(index, value)\n",
        "    if 'print' in com:\n",
        "        print(arr)\n",
        "    if 'remove' in com:\n",
        "        numbers = com.split()\n",
        "        value = int(numbers[1])\n",
        "        arr.remove(value)\n",
        "    if 'append' in com:\n",
        "        numbers = com.split()\n",
        "        value = int(numbers[1])\n",
        "        arr.append(value)\n",
        "    if 'sort' in com:\n",
        "        arr.sort()\n",
        "    if 'pop' in com:\n",
        "        value = len(arr) - 1\n",
        "        arr.pop(value)\n",
        "    if 'reverse' in com:\n",
        "        arr.reverse()\n",
        "\n",
        "\n",
        "if __name__ == '__main__':\n",
        "    N = int(input())\n",
        "    count = 0\n",
        "    arr = []\n",
        "    while count < N:\n",
        "        com = input()\n",
        "        command(com)\n",
        "        count += 1\n"
      ],
      "metadata": {
        "id": "tqehBDZHoic4"
      },
      "execution_count": null,
      "outputs": []
    },
    {
      "cell_type": "code",
      "source": [
        "#Eleventh day HackerRank tutorial\n",
        "#https://www.hackerrank.com/challenges/30-2d-arrays/problem?isFullScreen=true\n",
        "\n",
        "class Person:\n",
        "\tdef __init__(self, firstName, lastName, idNumber):\n",
        "\t\tself.firstName = firstName\n",
        "\t\tself.lastName = lastName\n",
        "\t\tself.idNumber = idNumber\n",
        "\tdef printPerson(self):\n",
        "\t\tprint(\"Name:\", self.lastName + \",\", self.firstName)\n",
        "\t\tprint(\"ID:\", self.idNumber)\n",
        "\n",
        "class Student(Person):\n",
        "    #   Class Constructor\n",
        "\n",
        "    #   Parameters:\n",
        "    #   firstName - A string denoting the Person's first name.\n",
        "    #   lastName - A string denoting the Person's last name.\n",
        "    #   id - An integer denoting the Person's ID number.\n",
        "    #   scores - An array of integers denoting the Person's test scores.\n",
        "    #\n",
        "    # Write your constructor here\n",
        "    def __init__(self, firstName, lastName, idNumber, scores):\n",
        "        self.firstName = firstName\n",
        "        self.lastName = lastName\n",
        "        self.idNumber = idNumber\n",
        "        self.scores = scores\n",
        "\n",
        "    #   Function Name: calculate\n",
        "    #   Return: A character denoting the grade.\n",
        "    #\n",
        "    # Write your function here\n",
        "    def calculate(self):\n",
        "        mean = sum(self.scores)/len(self.scores)\n",
        "\n",
        "        if mean >= 90:\n",
        "            return 'O'\n",
        "        elif mean >= 80 and mean < 90:\n",
        "            return 'E'\n",
        "        elif mean >= 70 and mean < 80:\n",
        "            return 'A'\n",
        "        elif mean >= 55 and mean < 70:\n",
        "            return 'P'\n",
        "        elif mean >= 40 and mean < 55:\n",
        "            return 'D'\n",
        "        elif mean < 40:\n",
        "            return 'T'\n",
        "\n",
        "line = input().split()\n",
        "firstName = line[0]\n",
        "lastName = line[1]\n",
        "idNum = line[2]\n",
        "numScores = int(input()) # not needed for Python\n",
        "scores = list( map(int, input().split()) )\n",
        "s = Student(firstName, lastName, idNum, scores)\n",
        "s.printPerson()\n",
        "print(\"Grade:\", s.calculate())"
      ],
      "metadata": {
        "id": "djlLdoLY7RuE"
      },
      "execution_count": null,
      "outputs": []
    },
    {
      "cell_type": "code",
      "source": [
        "#day 12 HackerRank challenge\n",
        "#https://www.hackerrank.com/challenges/python-tuples/problem?isFullScreen=true\n",
        "\n",
        "if __name__ == '__main__':\n",
        "    n = int(input())\n",
        "    lis = map(int, input().split())\n",
        "    t = tuple(lis)\n",
        "\n",
        "    print(hash(t))\n"
      ],
      "metadata": {
        "colab": {
          "base_uri": "https://localhost:8080/"
        },
        "id": "Rj9Dhm8rfePb",
        "outputId": "5e0b5c3e-a9f5-4ae5-e17c-ba6cbe379ddc"
      },
      "execution_count": null,
      "outputs": [
        {
          "output_type": "stream",
          "name": "stdout",
          "text": [
            "2\n",
            "1 2\n",
            "-3550055125485641917\n"
          ]
        }
      ]
    },
    {
      "cell_type": "code",
      "source": [
        "#Twelfth day HackerRank tutorial\n",
        "#https://www.hackerrank.com/challenges/30-abstract-classes/problem?isFullScreen=true\n",
        "\n",
        "from abc import ABCMeta, abstractmethod\n",
        "class Book(object, metaclass=ABCMeta):\n",
        "    def __init__(self,title,author):\n",
        "        self.title=title\n",
        "        self.author=author\n",
        "    @abstractmethod\n",
        "    def display(): pass\n",
        "\n",
        "#Write MyBook class\n",
        "class MyBook(Book):\n",
        "    def __init__(self, title, author, price):\n",
        "        super().__init__(title, author)\n",
        "        self.price = price\n",
        "\n",
        "    def display(self):\n",
        "        print(f\"Title: {self.title}\")\n",
        "        print(f\"Author: {self.author}\")\n",
        "        print(f\"Price: {self.price}\")\n",
        "\n",
        "title=input()\n",
        "author=input()\n",
        "price=int(input())\n",
        "new_novel=MyBook(title,author,price)\n",
        "new_novel.display()"
      ],
      "metadata": {
        "id": "Rcyr6Jshnej3"
      },
      "execution_count": null,
      "outputs": []
    },
    {
      "cell_type": "code",
      "source": [
        "#day 13 HackerRank challenge\n",
        "#https://www.hackerrank.com/challenges/swap-case/problem?isFullScreen=true\n",
        "\n",
        "def swap_case(s):\n",
        "    nw_st = ''\n",
        "    for i in s:\n",
        "        if i.islower():\n",
        "            nw_st += i.upper()\n",
        "        else:\n",
        "            nw_st += i.lower()\n",
        "    return nw_st\n",
        "\n",
        "if __name__ == '__main__':\n",
        "    s = input()\n",
        "    result = swap_case(s)\n",
        "    print(result)"
      ],
      "metadata": {
        "id": "rk8r5C7KnhGr"
      },
      "execution_count": null,
      "outputs": []
    },
    {
      "cell_type": "code",
      "source": [
        "#Thirteenth day HackerRank tutorial\n",
        "#https://www.hackerrank.com/challenges/30-scope/problem?isFullScreen=true\n",
        "\n",
        "class Difference:\n",
        "    def __init__(self, a):\n",
        "        self.__elements = a\n",
        "\n",
        "\t# Add your code here\n",
        "    def computeDifference(self):\n",
        "        maximum = 0\n",
        "        for i in range(len(self.__elements)):\n",
        "            for j in range(len(self.__elements)):\n",
        "                absolute = self.__elements[i] - self.__elements[j]\n",
        "\n",
        "                if absolute >= maximum:\n",
        "                    maximum = absolute\n",
        "        self.maximumDifference = maximum\n",
        "# End of Difference class\n",
        "\n",
        "_ = input()\n",
        "a = [int(e) for e in input().split(' ')]\n",
        "\n",
        "d = Difference(a)\n",
        "d.computeDifference()\n",
        "\n",
        "print(d.maximumDifference)"
      ],
      "metadata": {
        "id": "hBpRsoKFF0-f"
      },
      "execution_count": null,
      "outputs": []
    },
    {
      "cell_type": "code",
      "source": [
        "#day 14 HackerRank challenge\n",
        "#https://www.hackerrank.com/challenges/python-string-split-and-join/problem?isFullScreen=true\n",
        "\n",
        "def split_and_join(line):\n",
        "    # write your code here\n",
        "    a = line\n",
        "    a = a.split(\" \")\n",
        "    a = \"-\".join(a)\n",
        "    return a\n",
        "\n",
        "if __name__ == '__main__':\n",
        "    line = input()\n",
        "    result = split_and_join(line)\n",
        "    print(result)"
      ],
      "metadata": {
        "id": "h11QzXgEkmp1"
      },
      "execution_count": null,
      "outputs": []
    },
    {
      "cell_type": "code",
      "source": [
        "#Fourteenth day HackerRank challenge\n",
        "#https://www.hackerrank.com/challenges/30-linked-list/problem?isFullScreen=true\n",
        "class Node:\n",
        "    def __init__(self,data):\n",
        "        self.data = data\n",
        "        self.next = None\n",
        "class Solution:\n",
        "    def display(self,head):\n",
        "        current = head\n",
        "        while current:\n",
        "            print(current.data,end=' ')\n",
        "            current = current.next\n",
        "    def insert(self,head,data):\n",
        "        node = Node(data)\n",
        "        if head:\n",
        "            tail = head\n",
        "            while tail.next:\n",
        "                tail = tail.next\n",
        "            tail.next = node\n",
        "            return head\n",
        "        return node\n",
        "\n",
        "mylist= Solution()\n",
        "T=int(input())\n",
        "head=None\n",
        "for i in range(T):\n",
        "    data=int(input())\n",
        "    head=mylist.insert(head,data)\n",
        "mylist.display(head);"
      ],
      "metadata": {
        "id": "7hA7qn3IiR5L"
      },
      "execution_count": null,
      "outputs": []
    },
    {
      "cell_type": "code",
      "source": [
        "#day 15 HackerRank challenge\n",
        "#https://www.hackerrank.com/challenges/whats-your-name/problem?isFullScreen=true\n",
        "\n",
        "#\n",
        "# Complete the 'print_full_name' function below.\n",
        "#\n",
        "# The function is expected to return a STRING.\n",
        "# The function accepts following parameters:\n",
        "#  1. STRING first\n",
        "#  2. STRING last\n",
        "#\n",
        "\n",
        "def print_full_name(first, last):\n",
        "    # Write your code here\n",
        "    last += '!'\n",
        "    print('Hello', first, last, 'You just delved into python.')\n",
        "if __name__ == '__main__':\n",
        "    first_name = input()\n",
        "    last_name = input()\n",
        "    print_full_name(first_name, last_name)"
      ],
      "metadata": {
        "id": "e57m3NegZzue"
      },
      "execution_count": null,
      "outputs": []
    },
    {
      "cell_type": "code",
      "source": [
        "#fifteenth day HackerRank tutorial\n",
        "#https://www.hackerrank.com/challenges/30-exceptions-string-to-integer/problem?isFullScreen=true\n",
        "\n",
        "#!/bin/python3\n",
        "\n",
        "import math\n",
        "import os\n",
        "import random\n",
        "import re\n",
        "import sys\n",
        "\n",
        "S = input()\n",
        "\n",
        "try:\n",
        "    s = int(S)\n",
        "    print(s)\n",
        "except ValueError:\n",
        "    print(\"Bad String\")\n"
      ],
      "metadata": {
        "id": "8_YxmJvdWGIJ"
      },
      "execution_count": null,
      "outputs": []
    },
    {
      "cell_type": "code",
      "source": [
        "#sixteenth day HackerRank tutorial\n",
        "#https://www.hackerrank.com/challenges/30-more-exceptions/problem?isFullScreen=true\n",
        "\n",
        "#Write your code here\n",
        "class Calculator:\n",
        "    def power(self, n, p):\n",
        "        if n < 0 or p < 0:\n",
        "            raise Exception(\"n and p should be non-negative\")\n",
        "        return pow(n, p)\n",
        "\n",
        "myCalculator=Calculator()\n",
        "T=int(input())\n",
        "for i in range(T):\n",
        "    n,p = map(int, input().split())\n",
        "    try:\n",
        "        ans=myCalculator.power(n,p)\n",
        "        print(ans)\n",
        "    except Exception as e:\n",
        "        print(e)"
      ],
      "metadata": {
        "id": "E2-jLD-CUIcQ"
      },
      "execution_count": null,
      "outputs": []
    },
    {
      "cell_type": "code",
      "source": [
        "#day 16 HackerRank challenge\n",
        "#https://www.hackerrank.com/challenges/whats-your-name/problem?isFullScreen=true\n",
        "\n",
        "def mutate_string(string, position, character):\n",
        "    s = string[:position] + character + string[position + 1:]\n",
        "    return s\n",
        "\n",
        "if __name__ == '__main__':\n",
        "    s = input()\n",
        "    i, c = input().split()\n",
        "    s_new = mutate_string(s, int(i), c)\n",
        "    print(s_new)"
      ],
      "metadata": {
        "id": "VBOnXskvb594"
      },
      "execution_count": null,
      "outputs": []
    },
    {
      "cell_type": "code",
      "source": [
        "#seventeenth day HackerRank tutorial\n",
        "#https://www.hackerrank.com/challenges/30-queues-stacks/problem?isFullScreen=true\n",
        "\n",
        "import sys\n",
        "\n",
        "class Solution:\n",
        "    # Write your code here\n",
        "    def __init__(self):\n",
        "        self.stack = []\n",
        "        self.queue = []\n",
        "\n",
        "    def pushCharacter(self, ch):\n",
        "        self.stack.append(ch)\n",
        "\n",
        "    def enqueueCharacter(self, ch):\n",
        "        self.queue.append(ch)\n",
        "\n",
        "    def popCharacter(self):\n",
        "        return self.stack.pop()\n",
        "\n",
        "    def dequeueCharacter(self):\n",
        "        return self.queue.pop(0) if self.queue else None\n",
        "\n",
        "# read the string s\n",
        "s=input()\n",
        "#Create the Solution class object\n",
        "obj=Solution()\n",
        "\n",
        "l=len(s)\n",
        "# push/enqueue all the characters of string s to stack\n",
        "for i in range(l):\n",
        "    obj.pushCharacter(s[i])\n",
        "    obj.enqueueCharacter(s[i])\n",
        "\n",
        "isPalindrome=True\n",
        "'''\n",
        "pop the top character from stack\n",
        "dequeue the first character from queue\n",
        "compare both the characters\n",
        "'''\n",
        "for i in range(l // 2):\n",
        "    if obj.popCharacter()!=obj.dequeueCharacter():\n",
        "        isPalindrome=False\n",
        "        break\n",
        "#finally print whether string s is palindrome or not.\n",
        "if isPalindrome:\n",
        "    print(\"The word, \"+s+\", is a palindrome.\")\n",
        "else:\n",
        "    print(\"The word, \"+s+\", is not a palindrome.\")"
      ],
      "metadata": {
        "id": "aHhZIynJX9P_"
      },
      "execution_count": null,
      "outputs": []
    }
  ]
}