{
  "nbformat": 4,
  "nbformat_minor": 0,
  "metadata": {
    "colab": {
      "provenance": [],
      "authorship_tag": "ABX9TyO0zySKKtyvRlmhejiRj3sT",
      "include_colab_link": true
    },
    "kernelspec": {
      "name": "python3",
      "display_name": "Python 3"
    },
    "language_info": {
      "name": "python"
    }
  },
  "cells": [
    {
      "cell_type": "markdown",
      "metadata": {
        "id": "view-in-github",
        "colab_type": "text"
      },
      "source": [
        "<a href=\"https://colab.research.google.com/github/Lucas-Andrade-Projetos/HackerRank_Challenges/blob/main/HackerRank_Challenges.ipynb\" target=\"_parent\"><img src=\"https://colab.research.google.com/assets/colab-badge.svg\" alt=\"Open In Colab\"/></a>"
      ]
    },
    {
      "cell_type": "code",
      "execution_count": null,
      "metadata": {
        "id": "8m4bvhM6FSd0"
      },
      "outputs": [],
      "source": [
        "#First day challenge HackerRank\n",
        "#https://www.hackerrank.com/challenges/python-arithmetic-operators/problem?isFullScreen=true DATE:03/25/2024\n",
        "\n",
        "if __name__ == '__main__':\n",
        "    a = int(input())\n",
        "    b = int(input())\n",
        "\n",
        "print(a+b)\n",
        "print(a-b)\n",
        "print(a*b)"
      ]
    }
  ]
}