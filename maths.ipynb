{
  "nbformat": 4,
  "nbformat_minor": 0,
  "metadata": {
    "colab": {
      "provenance": [],
      "authorship_tag": "ABX9TyNxN7x0eM8jcbm5HXRg4IaV",
      "include_colab_link": true
    },
    "kernelspec": {
      "name": "python3",
      "display_name": "Python 3"
    },
    "language_info": {
      "name": "python"
    }
  },
  "cells": [
    {
      "cell_type": "markdown",
      "metadata": {
        "id": "view-in-github",
        "colab_type": "text"
      },
      "source": [
        "<a href=\"https://colab.research.google.com/github/Lucas-Andrade-Projetos/HackerRank_Challenges/blob/main/maths.ipynb\" target=\"_parent\"><img src=\"https://colab.research.google.com/assets/colab-badge.svg\" alt=\"Open In Colab\"/></a>"
      ]
    },
    {
      "cell_type": "code",
      "execution_count": null,
      "metadata": {
        "id": "6CQNpb8S7yEb"
      },
      "outputs": [],
      "source": [
        "#day 1 math\n",
        "#https://www.hackerrank.com/challenges/find-point/problem?isFullScreen=true\n",
        "\n",
        "\n",
        "#!/bin/python3\n",
        "\n",
        "import math\n",
        "import os\n",
        "import random\n",
        "import re\n",
        "import sys\n",
        "\n",
        "#\n",
        "# Complete the 'findPoint' function below.\n",
        "#\n",
        "# The function is expected to return an INTEGER_ARRAY.\n",
        "# The function accepts following parameters:\n",
        "#  1. INTEGER px\n",
        "#  2. INTEGER py\n",
        "#  3. INTEGER qx\n",
        "#  4. INTEGER qy\n",
        "#\n",
        "\n",
        "def findPoint(px, py, qx, qy):\n",
        "    # Write your code here\n",
        "    pnt_px = qx - px\n",
        "    pnt_py = qy - py\n",
        "    pnt_xy = [qx + pnt_px, qy + pnt_py]\n",
        "    return pnt_xy\n",
        "\n",
        "if __name__ == '__main__':\n",
        "    fptr = open(os.environ['OUTPUT_PATH'], 'w')\n",
        "\n",
        "    n = int(input().strip())\n",
        "\n",
        "    for n_itr in range(n):\n",
        "        first_multiple_input = input().rstrip().split()\n",
        "\n",
        "        px = int(first_multiple_input[0])\n",
        "\n",
        "        py = int(first_multiple_input[1])\n",
        "\n",
        "        qx = int(first_multiple_input[2])\n",
        "\n",
        "        qy = int(first_multiple_input[3])\n",
        "\n",
        "        result = findPoint(px, py, qx, qy)\n",
        "\n",
        "        fptr.write(' '.join(map(str, result)))\n",
        "        fptr.write('\\n')\n",
        "\n",
        "    fptr.close()\n"
      ]
    },
    {
      "cell_type": "code",
      "source": [
        "#day 2 math\n",
        "#https://www.hackerrank.com/challenges/arrays-ds/problem?isFullScreen=true\n",
        "\n",
        "#!/bin/python3\n",
        "\n",
        "import math\n",
        "import os\n",
        "import random\n",
        "import re\n",
        "import sys\n",
        "\n",
        "#\n",
        "# Complete the 'reverseArray' function below.\n",
        "#\n",
        "# The function is expected to return an INTEGER_ARRAY.\n",
        "# The function accepts INTEGER_ARRAY a as parameter.\n",
        "#\n",
        "\n",
        "def reverseArray(a):\n",
        "    # Write your code here\n",
        "    nw_arr = []\n",
        "    for i in reversed(a):\n",
        "        nw_arr.append(i)\n",
        "\n",
        "    return nw_arr\n",
        "\n",
        "if __name__ == '__main__':\n",
        "    fptr = open(os.environ['OUTPUT_PATH'], 'w')\n",
        "\n",
        "    arr_count = int(input().strip())\n",
        "\n",
        "    arr = list(map(int, input().rstrip().split()))\n",
        "\n",
        "    res = reverseArray(arr)\n",
        "\n",
        "    fptr.write(' '.join(map(str, res)))\n",
        "    fptr.write('\\n')\n",
        "\n",
        "    fptr.close()\n"
      ],
      "metadata": {
        "id": "67i4s_8nPnC7"
      },
      "execution_count": null,
      "outputs": []
    }
  ]
}